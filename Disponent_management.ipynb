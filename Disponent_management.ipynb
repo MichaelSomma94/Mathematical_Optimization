{
 "cells": [
  {
   "cell_type": "code",
   "execution_count": 34,
   "id": "5abbda60-da23-481a-98b6-76e22c1e162e",
   "metadata": {},
   "outputs": [],
   "source": [
    "from IPython.display import display\n",
    "import ipywidgets as widgets\n",
    "\n",
    "from pulp import LpProblem, LpVariable, lpSum, LpMaximize"
   ]
  },
  {
   "cell_type": "markdown",
   "id": "1d21991e-66e1-4599-9cef-487099e3dfb6",
   "metadata": {},
   "source": [
    "# Auswahl"
   ]
  },
  {
   "cell_type": "code",
   "execution_count": 98,
   "id": "191beecc-3906-4bbe-b1ef-c314b30499b3",
   "metadata": {},
   "outputs": [],
   "source": [
    "# Example project data (project_id, priority, crane_capcity_required, driver_skill_required)\n",
    "projects = {\n",
    "    'P1': (1, 2, 1, 'Sunny', 'Type1', 5),  # Project P1 requires 5 hours\n",
    "    'P2': (2, 1, 2, 'Rainy', 'Type2', 7),  # Project P2 requires 7 hours\n",
    "    'P3': (3, 3, 2, 'Partly Cloudy','Type2', 3)\n",
    "}\n",
    "\n",
    "# Example crane data (crane_id, type, capacity)\n",
    "cranes = {\n",
    "    'C1': ('Type1', 5),\n",
    "    'C2': ('Type2', 6),\n",
    "    'C3': ('Type1', 7),\n",
    "    # Add more cranes as needed\n",
    "}\n",
    "\n",
    "# Example driver data (driver_id, skill_level)\n",
    "drivers = {\n",
    "    'D1': 3,\n",
    "    'D2': 2,\n",
    "    'D3': 4,\n",
    "    # Add more drivers as needed\n",
    "}\n"
   ]
  },
  {
   "cell_type": "code",
   "execution_count": 84,
   "id": "b9602cd5-3982-42fd-9b6e-574fe3432bd2",
   "metadata": {},
   "outputs": [
    {
     "data": {
      "application/vnd.jupyter.widget-view+json": {
       "model_id": "153bf4c290f645349ba62d1397fa92f3",
       "version_major": 2,
       "version_minor": 0
      },
      "text/plain": [
       "SelectMultiple(description='Aufträge', options=('P1', 'P2', 'P3'), value=())"
      ]
     },
     "metadata": {},
     "output_type": "display_data"
    },
    {
     "data": {
      "application/vnd.jupyter.widget-view+json": {
       "model_id": "ff8870e5b37d4e10b3442be86b14b8f5",
       "version_major": 2,
       "version_minor": 0
      },
      "text/plain": [
       "SelectMultiple(description='Kräne', options=('C1', 'C2', 'C3'), value=())"
      ]
     },
     "metadata": {},
     "output_type": "display_data"
    },
    {
     "data": {
      "application/vnd.jupyter.widget-view+json": {
       "model_id": "47a218873d304592a56f09363acd96ee",
       "version_major": 2,
       "version_minor": 0
      },
      "text/plain": [
       "SelectMultiple(description='Fahrer', options=('D1', 'D2', 'D3'), value=())"
      ]
     },
     "metadata": {},
     "output_type": "display_data"
    },
    {
     "data": {
      "application/vnd.jupyter.widget-view+json": {
       "model_id": "35c20757050c433c88d1430ee2140fec",
       "version_major": 2,
       "version_minor": 0
      },
      "text/plain": [
       "Button(description='Auswahl speichern!', style=ButtonStyle())"
      ]
     },
     "metadata": {},
     "output_type": "display_data"
    },
    {
     "data": {
      "application/vnd.jupyter.widget-view+json": {
       "model_id": "945b25fb37b74e9e87f2a301f1d05aaf",
       "version_major": 2,
       "version_minor": 0
      },
      "text/plain": [
       "VBox(children=(Output(),))"
      ]
     },
     "metadata": {},
     "output_type": "display_data"
    }
   ],
   "source": [
    "# Create an Output widget for displaying the saved items\n",
    "output = widgets.Output()\n",
    "\n",
    "# Create a SelectMultiple widget for each dictionary\n",
    "select_dict1 = widgets.SelectMultiple(\n",
    "    options=projects.keys(),\n",
    "    description='Aufträge',\n",
    ")\n",
    "select_dict2 = widgets.SelectMultiple(\n",
    "    options=cranes.keys(),\n",
    "    description='Kräne',\n",
    ")\n",
    "select_dict3 = widgets.SelectMultiple(\n",
    "    options=drivers.keys(),\n",
    "    description='Fahrer',\n",
    ")\n",
    "\n",
    "# Display the SelectMultiple widgets\n",
    "#display(select_dict1, select_dict2, select_dict3)\n",
    "\n",
    "# Initialize variables to store selected keys\n",
    "selected_keys_dict1 = []\n",
    "selected_keys_dict2 = []\n",
    "selected_keys_dict3 = []\n",
    "# Function to handle selection changes\n",
    "def handle_selection_change(change):\n",
    "    global selected_keys_dict1, selected_keys_dict2, selected_keys_dict3\n",
    "    selected_keys_dict1 = list(select_dict1.value)\n",
    "    selected_keys_dict2 = list(select_dict2.value)\n",
    "    selected_keys_dict3 = list(select_dict3.value)\n",
    "\n",
    "# Attach the function to selection changes\n",
    "select_dict1.observe(handle_selection_change, names='value')\n",
    "select_dict2.observe(handle_selection_change, names='value')\n",
    "select_dict3.observe(handle_selection_change, names='value')\n",
    "\n",
    "\n",
    "\n",
    "# Function to save selected dictionaries\n",
    "def save_selected_dictionaries(btn):\n",
    "\n",
    "    selected_dict1 = {key: dict1[key] for key in selected_keys_dict1}\n",
    "    selected_dict2 = {key: dict2[key] for key in selected_keys_dict2}\n",
    "    selected_dict3 = {key: dict3[key] for key in selected_keys_dict3}\n",
    "    #select_box = widgets.VBox([selected_dict1, selected_dict2, selected_dict3])\n",
    "    # Update the content of the output widget with selected keys\n",
    "    #output.clear_output()\n",
    "    with output:\n",
    "        clear_output(wait=True)\n",
    "        print(\"Selected Keys:\")\n",
    "        print(f\"Dictionary 1: {selected_keys_dict1}\")\n",
    "        print(f\"Dictionary 2: {selected_keys_dict2}\")\n",
    "        print(f\"Dictionary 3: {selected_keys_dict3}\")\n",
    "\n",
    "\n",
    "\n",
    "#display(widgets.HBox([select_box, output, save_button]))\n",
    "\n",
    "\n",
    "# Create a button to trigger saving\n",
    "save_button = widgets.Button(description=\"Auswahl speichern!\")\n",
    "save_button.on_click(lambda btn: save_selected_dictionaries())\n",
    "# Display the widgets\n",
    "box2 = widgets.VBox([output])\n",
    "\n",
    "display(select_dict1, select_dict2, select_dict3, save_button)\n",
    "#item_box = widgets.VBox([widgets.Label(item) for item in selected_keys_dict1])\n",
    "display(box2)\n"
   ]
  },
  {
   "cell_type": "code",
   "execution_count": 101,
   "id": "9632c83c-7ca8-46cc-bbe6-ba15e566c8fe",
   "metadata": {},
   "outputs": [
    {
     "name": "stdout",
     "output_type": "stream",
     "text": [
      "{'P1': (1, 2, 1, 'Sunny', 'Type1', 5), 'P2': (2, 1, 2, 'Rainy', 'Type2', 7), 'P3': (3, 3, 2, 'Partly Cloudy', 'Type2', 3)}\n",
      "{'P1': (1, 2, 1, 'Sunny', 'Type1', 5), 'P2': (2, 1, 2, 'Rainy', 'Type2', 7), 'P3': (3, 3, 2, 'Partly Cloudy', 'Type2', 3)}\n",
      "{'C1': ('Type1', 5), 'C2': ('Type2', 6), 'C3': ('Type1', 7)}\n"
     ]
    }
   ],
   "source": [
    "# Using dictionary comprehension to select entries with matching keys\n",
    "projects_selected = {key: value for key, value in projects.items() if key in selected_keys_dict1}\n",
    "cranes_selected = {key: value for key, value in cranes.items() if key in selected_keys_dict2}\n",
    "drivers_selected = {key: value for key, value in drivers.items() if key in selected_keys_dict3}\n",
    "print(projects_selected)\n",
    "print(projects)\n",
    "print(cranes_selected)"
   ]
  },
  {
   "cell_type": "code",
   "execution_count": 102,
   "id": "36461ecf-4783-4515-a936-0e6ef915db89",
   "metadata": {},
   "outputs": [
    {
     "data": {
      "application/vnd.jupyter.widget-view+json": {
       "model_id": "6b1991a9c5f945db82505d47da44f46e",
       "version_major": 2,
       "version_minor": 0
      },
      "text/plain": [
       "HBox(children=(Label(value='P1'), Label(value='P2'), Label(value='P3')))"
      ]
     },
     "metadata": {},
     "output_type": "display_data"
    },
    {
     "data": {
      "application/vnd.jupyter.widget-view+json": {
       "model_id": "b619b27b1a5d4e1f8fb14b97eee8cf38",
       "version_major": 2,
       "version_minor": 0
      },
      "text/plain": [
       "HBox(children=(Label(value='C1'), Label(value='C2'), Label(value='C3')))"
      ]
     },
     "metadata": {},
     "output_type": "display_data"
    },
    {
     "data": {
      "application/vnd.jupyter.widget-view+json": {
       "model_id": "a4b91056ca8b456d835151cede2a9335",
       "version_major": 2,
       "version_minor": 0
      },
      "text/plain": [
       "HBox(children=(Label(value='D1'), Label(value='D2'), Label(value='D3')))"
      ]
     },
     "metadata": {},
     "output_type": "display_data"
    }
   ],
   "source": [
    "output = widgets.Output()\n",
    "# Create a VBox (Vertical Box) to hold the items\n",
    "project_box = widgets.HBox([widgets.Label(item) for item in selected_keys_dict1], description=\"Auswahl Aufträge\")\n",
    "crane_box = widgets.HBox([widgets.Label(item) for item in selected_keys_dict2], description=\"Auswahl Kräne\")\n",
    "driver_box = widgets.HBox([widgets.Label(item) for item in selected_keys_dict3], description=\"Auswahl Faherer\")\n",
    "#box2 = widgets.VBox([output])\n",
    "#box2 = widgets.VBox([output])\n",
    "# Display the VBox\n",
    "display(project_box, crane_box, driver_box)\n"
   ]
  },
  {
   "cell_type": "markdown",
   "id": "1cdf7d54-50db-4259-9427-0ebea3c68d42",
   "metadata": {},
   "source": [
    "# Model \n",
    "- Intelligente Linear Programming Optmierung"
   ]
  },
  {
   "cell_type": "code",
   "execution_count": 103,
   "id": "3da0aaf8-aa56-4d7e-81ff-aef17e9470d6",
   "metadata": {},
   "outputs": [],
   "source": [
    "# Create the optimization model\n",
    "model = LpProblem(\"Resource_Allocation\", LpMaximize)\n",
    "time_periods = range(1, 25)\n"
   ]
  },
  {
   "cell_type": "code",
   "execution_count": 104,
   "id": "a09a2c3d-82ff-49ca-aaf4-ae3a16c544cf",
   "metadata": {},
   "outputs": [],
   "source": [
    "x = {(p, c, d, t): LpVariable(f'x_{p}_{c}_{d}_{t}', cat='Binary') for p in projects_selected for c in cranes_selected for d in drivers_selected for t in time_periods}\n"
   ]
  },
  {
   "cell_type": "markdown",
   "id": "936dd58c-1c63-4ebd-9ffa-8e5e539e1e87",
   "metadata": {},
   "source": [
    "# Zielfunktion\n",
    "- Priorität-optmierte Zuordnung"
   ]
  },
  {
   "cell_type": "code",
   "execution_count": 105,
   "id": "92d06814-ac41-42d7-b30d-d9034b896520",
   "metadata": {},
   "outputs": [],
   "source": [
    "# Objective function: Maximize total project priorities considering project order\n",
    "model += lpSum(projects_selected[p][0] * x[p, c, d, t] for p in projects_selected for c in cranes_selected for d in drivers_selected for t in time_periods), \"Total_Priority_With_Time\"\n"
   ]
  },
  {
   "cell_type": "markdown",
   "id": "1424dba8-7f3b-478b-847d-76360a5f1fed",
   "metadata": {},
   "source": [
    "# Zwangsbedingungen\n",
    "- ein Kran und Fahrer pro Auftrag\n",
    "- der Fahrer muss die Skills für einen gewissen Kran haben\n",
    "- Die Betriebszeiten sind von 6-20 Uhr, alle Projecte bis Dienstschluss abschließen"
   ]
  },
  {
   "cell_type": "code",
   "execution_count": 106,
   "id": "e80b7202-848b-4bea-ba1c-b8934dc2bbcc",
   "metadata": {},
   "outputs": [],
   "source": [
    "\n",
    "# Constraint: Each project gets one crane and one driver\n",
    "for p in projects_selected:\n",
    "   model += lpSum(x[p, c, d,t] for c in cranes_selected for d in drivers_selected for t in time_periods) == 1, f'Project_{p}_Allocation'\n",
    "\n",
    "\n",
    "# Constraint: Each crane can be allocated to only one project at a time\n",
    "for c in cranes_selected:\n",
    "    for t in time_periods:\n",
    "        max_allocation_time = min(t + cranes_selected[c][1], max(time_periods))\n",
    "        model += (\n",
    "            lpSum(x[p, c, d, t_prime] for p in projects for d in drivers for t_prime in range(t, max_allocation_time)) <= 1,\n",
    "            f'Crane_Allocation_Constraint_{c}_{t}'\n",
    "        )\n",
    "\n",
    "# Constraint: Allocate crane only if project starts after 8:00 and finishes before 20:00 (8:00 PM)\n",
    "for p in projects_selected:\n",
    "    for c in cranes_selected:\n",
    "        for d in drivers_selected:\n",
    "            for t in time_periods:\n",
    "                # Calculate the project's end time based on its start time and duration\n",
    "                end_time = t + projects_selected[p][5] - 1\n",
    "                start_time = 6\n",
    "                #print(projects[p][5])\n",
    "               \n",
    "                # Check if the project finishes before 20:00\n",
    "                if (end_time > 20) or (t < start_time):\n",
    "                     #print(end_time)\n",
    "                     model += x[p, c, d, t] == 0, f'Crane_Allocation_Time_Constraint_{p}_{c}_{d}_{t}'\n",
    "\n",
    "# Constraint: Skill level constraint for drivers\n",
    "for d in drivers_selected:\n",
    "    model += lpSum(projects_selected[p][2] * x[p, c, d, t] for p in projects_selected for c in cranes_selected for t in time_periods) <= drivers_selected[d], f'Driver_{d}_Skill'\n",
    "\n",
    "              "
   ]
  },
  {
   "cell_type": "markdown",
   "id": "34d3a885-9ffc-4bd5-8877-a3ebbcdc0509",
   "metadata": {},
   "source": [
    "# Die optimale Lösung"
   ]
  },
  {
   "cell_type": "code",
   "execution_count": 107,
   "id": "f677dd81-d0a2-4f6b-9e8f-3c91e8781673",
   "metadata": {},
   "outputs": [
    {
     "name": "stdout",
     "output_type": "stream",
     "text": [
      "Welcome to the CBC MILP Solver \n",
      "Version: 2.10.3 \n",
      "Build Date: Dec 15 2019 \n",
      "\n",
      "command line - /Users/michiundslavki/miniconda3/envs/Resource_Allo/lib/python3.8/site-packages/pulp/solverdir/cbc/osx/64/cbc /var/folders/vw/4d6l2vcs2_d7xcp6s_tqf9mw0000gn/T/f4100174318f4a5a84e49e6796de5a64-pulp.mps max timeMode elapsed branch printingOptions all solution /var/folders/vw/4d6l2vcs2_d7xcp6s_tqf9mw0000gn/T/f4100174318f4a5a84e49e6796de5a64-pulp.sol (default strategy 1)\n",
      "At line 2 NAME          MODEL\n",
      "At line 3 ROWS\n",
      "At line 434 COLUMNS\n",
      "At line 7338 RHS\n",
      "At line 7768 BOUNDS\n",
      "At line 8417 ENDATA\n",
      "Problem MODEL has 429 rows, 648 columns and 4959 elements\n",
      "Coin0008I MODEL read with 0 errors\n",
      "Option for timeMode changed from cpu to elapsed\n",
      "Continuous objective value is 6 - 0.00 seconds\n",
      "Cgl0002I 351 variables fixed\n",
      "Cgl0003I 0 fixed, 0 tightened bounds, 9 strengthened rows, 0 substitutions\n",
      "Cgl0003I 0 fixed, 0 tightened bounds, 9 strengthened rows, 0 substitutions\n",
      "Cgl0003I 0 fixed, 0 tightened bounds, 8 strengthened rows, 0 substitutions\n",
      "Cgl0003I 0 fixed, 0 tightened bounds, 2 strengthened rows, 0 substitutions\n",
      "Cgl0003I 0 fixed, 0 tightened bounds, 2 strengthened rows, 0 substitutions\n",
      "Cgl0003I 0 fixed, 0 tightened bounds, 2 strengthened rows, 0 substitutions\n",
      "Cgl0004I processed model has 59 rows, 297 columns (297 integer (297 of which binary)) and 2399 elements\n",
      "Cutoff increment increased from 1e-05 to 0.9999\n",
      "Cbc0038I Initial state - 2 integers unsatisfied sum - 1\n",
      "Cbc0038I Pass   1: suminf.    0.00000 (0) obj. -6 iterations 13\n",
      "Cbc0038I Solution found of -6\n",
      "Cbc0038I Before mini branch and bound, 294 integers at bound fixed and 0 continuous\n",
      "Cbc0038I Mini branch and bound did not improve solution (0.05 seconds)\n",
      "Cbc0038I After 0.05 seconds - Feasibility pump exiting with objective of -6 - took 0.00 seconds\n",
      "Cbc0012I Integer solution of -6 found by feasibility pump after 0 iterations and 0 nodes (0.05 seconds)\n",
      "Cbc0001I Search completed - best objective -6, took 0 iterations and 0 nodes (0.05 seconds)\n",
      "Cbc0035I Maximum depth 0, 0 variables fixed on reduced cost\n",
      "Cuts at root node changed objective from -6 to -6\n",
      "Probing was tried 0 times and created 0 cuts of which 0 were active after adding rounds of cuts (0.000 seconds)\n",
      "Gomory was tried 0 times and created 0 cuts of which 0 were active after adding rounds of cuts (0.000 seconds)\n",
      "Knapsack was tried 0 times and created 0 cuts of which 0 were active after adding rounds of cuts (0.000 seconds)\n",
      "Clique was tried 0 times and created 0 cuts of which 0 were active after adding rounds of cuts (0.000 seconds)\n",
      "MixedIntegerRounding2 was tried 0 times and created 0 cuts of which 0 were active after adding rounds of cuts (0.000 seconds)\n",
      "FlowCover was tried 0 times and created 0 cuts of which 0 were active after adding rounds of cuts (0.000 seconds)\n",
      "TwoMirCuts was tried 0 times and created 0 cuts of which 0 were active after adding rounds of cuts (0.000 seconds)\n",
      "ZeroHalf was tried 0 times and created 0 cuts of which 0 were active after adding rounds of cuts (0.000 seconds)\n",
      "\n",
      "Result - Optimal solution found\n",
      "\n",
      "Objective value:                6.00000000\n",
      "Enumerated nodes:               0\n",
      "Total iterations:               0\n",
      "Time (CPU seconds):             0.03\n",
      "Time (Wallclock seconds):       0.05\n",
      "\n",
      "Option for printingOptions changed from normal to all\n",
      "Total time (CPU seconds):       0.04   (Wallclock seconds):       0.07\n",
      "\n",
      "1\n"
     ]
    }
   ],
   "source": [
    "result = model.solve()\n",
    "print(result)"
   ]
  },
  {
   "cell_type": "code",
   "execution_count": 108,
   "id": "2a84f84f-6a09-4435-a044-d0862fffd73a",
   "metadata": {},
   "outputs": [
    {
     "name": "stdout",
     "output_type": "stream",
     "text": [
      "Hallo ich bin dein CraneAI Dispatch Manager\n",
      "Das ist mein Vorschlag für deine Auswahl:\n",
      " Auftrag P1 zu Kran C3 mit Fahrer D3 zur Uhrzeit 8 zuordnen\n",
      " Auftrag P2 zu Kran C2 mit Fahrer D3 zur Uhrzeit 8 zuordnen\n",
      " Auftrag P3 zu Kran C1 mit Fahrer D2 zur Uhrzeit 14 zuordnen\n"
     ]
    }
   ],
   "source": [
    "print(\"Hallo ich bin dein CraneAI Dispatch Manager\") \n",
    "\n",
    "if  result == -1: \n",
    "    print(\"Die Aufträge übersteigen deine verfügbaren Kapazitäten\")\n",
    "elif result == 1: \n",
    "    print(\"Das ist mein Vorschlag für deine Auswahl:\")\n",
    "else: \n",
    "    (\"Es ist was bei der Optimierung schiefgelaufen, bitte nochmals versuchen\")\n",
    "for p in projects_selected:\n",
    "    for c in cranes_selected:\n",
    "        for d in drivers_selected:\n",
    "            for t in time_periods:\n",
    "                if x[p, c, d,t].varValue == 1:\n",
    "                 print(f\" Auftrag {p} zu Kran {c} mit Fahrer {d} zur Uhrzeit {t} zuordnen\")\n"
   ]
  },
  {
   "cell_type": "markdown",
   "id": "4ae1c51a-01de-4700-a853-f5bdd9e007bb",
   "metadata": {
    "jp-MarkdownHeadingCollapsed": true
   },
   "source": [
    "# User Interface"
   ]
  },
  {
   "cell_type": "code",
   "execution_count": 4,
   "id": "2f4e8758-48ac-4748-8bfb-e9db89e3c840",
   "metadata": {},
   "outputs": [
    {
     "data": {
      "application/vnd.jupyter.widget-view+json": {
       "model_id": "ceb00719debb4fc6b59eba6cb1a12b9c",
       "version_major": 2,
       "version_minor": 0
      },
      "text/plain": [
       "Checkbox(value=False, description='Dict 1')"
      ]
     },
     "metadata": {},
     "output_type": "display_data"
    },
    {
     "data": {
      "application/vnd.jupyter.widget-view+json": {
       "model_id": "0947003b07a846a9bfb8a395b97533b6",
       "version_major": 2,
       "version_minor": 0
      },
      "text/plain": [
       "Checkbox(value=False, description='Dict 2')"
      ]
     },
     "metadata": {},
     "output_type": "display_data"
    },
    {
     "data": {
      "application/vnd.jupyter.widget-view+json": {
       "model_id": "a83eca9df1d3495883da3965b8743d01",
       "version_major": 2,
       "version_minor": 0
      },
      "text/plain": [
       "Checkbox(value=False, description='Dict 3')"
      ]
     },
     "metadata": {},
     "output_type": "display_data"
    }
   ],
   "source": [
    "import ipywidgets as widgets\n",
    "from IPython.display import display\n",
    "\n",
    "# Define your dictionaries\n",
    "dict1 = {'Option 1': 1, 'Option 2': 2, 'Option 3': 3}\n",
    "dict2 = {'A': 'Apple', 'B': 'Banana', 'C': 'Cherry'}\n",
    "dict3 = {'Red': 'Color1', 'Green': 'Color2', 'Blue': 'Color3'}\n",
    "\n",
    "# Create a checkbox widget for each dictionary\n",
    "checkbox_dict1 = widgets.Checkbox(value=False, description='Dict 1')\n",
    "checkbox_dict2 = widgets.Checkbox(value=False, description='Dict 2')\n",
    "checkbox_dict3 = widgets.Checkbox(value=False, description='Dict 3')\n",
    "\n",
    "# Display the checkboxes\n",
    "display(checkbox_dict1, checkbox_dict2, checkbox_dict3)\n",
    "\n",
    "# Function to handle checkbox changes\n",
    "def handle_checkbox_change(change):\n",
    "    selected_dicts = []\n",
    "    if checkbox_dict1.value:\n",
    "        selected_dicts.append(dict1)\n",
    "    if checkbox_dict2.value:\n",
    "        selected_dicts.append(dict2)\n",
    "    if checkbox_dict3.value:\n",
    "        selected_dicts.append(dict3)\n",
    "    \n",
    "    # Process the selected dictionaries here (e.g., print them)\n",
    "    print(\"Selected Dictionaries:\")\n",
    "    for d in selected_dicts:\n",
    "        print(d)\n",
    "\n",
    "# Attach the function to checkbox changes\n",
    "checkbox_dict1.observe(handle_checkbox_change, names='value')\n",
    "checkbox_dict2.observe(handle_checkbox_change, names='value')\n",
    "checkbox_dict3.observe(handle_checkbox_change, names='value')\n"
   ]
  },
  {
   "cell_type": "code",
   "execution_count": 1,
   "id": "0133453a-3f6a-4500-ab2b-72320441d2b6",
   "metadata": {},
   "outputs": [
    {
     "data": {
      "application/vnd.jupyter.widget-view+json": {
       "model_id": "e30b2003f2e7493ca19efb835bc7662e",
       "version_major": 2,
       "version_minor": 0
      },
      "text/plain": [
       "SelectMultiple(description='Dict 1', options=('Option 1', 'Option 2', 'Option 3'), value=())"
      ]
     },
     "metadata": {},
     "output_type": "display_data"
    },
    {
     "data": {
      "application/vnd.jupyter.widget-view+json": {
       "model_id": "fb8cd91eb7ed49b5b71f8aadd4985615",
       "version_major": 2,
       "version_minor": 0
      },
      "text/plain": [
       "SelectMultiple(description='Dict 2', options=('A', 'B', 'C'), value=())"
      ]
     },
     "metadata": {},
     "output_type": "display_data"
    },
    {
     "data": {
      "application/vnd.jupyter.widget-view+json": {
       "model_id": "198112b3abf94062a38dd9c0177ecace",
       "version_major": 2,
       "version_minor": 0
      },
      "text/plain": [
       "SelectMultiple(description='Dict 3', options=('Red', 'Green', 'Blue'), value=())"
      ]
     },
     "metadata": {},
     "output_type": "display_data"
    }
   ],
   "source": [
    "import ipywidgets as widgets\n",
    "from IPython.display import display\n",
    "\n",
    "# Define your dictionaries\n",
    "dict1 = {'Option 1': 1, 'Option 2': 2, 'Option 3': 3}\n",
    "dict2 = {'A': 'Apple', 'B': 'Banana', 'C': 'Cherry'}\n",
    "dict3 = {'Red': 'Color1', 'Green': 'Color2', 'Blue': 'Color3'}\n",
    "\n",
    "# Create a SelectMultiple widget for each dictionary\n",
    "select_dict1 = widgets.SelectMultiple(\n",
    "    options=dict1.keys(),\n",
    "    description='Dict 1',\n",
    ")\n",
    "select_dict2 = widgets.SelectMultiple(\n",
    "    options=dict2.keys(),\n",
    "    description='Dict 2',\n",
    ")\n",
    "select_dict3 = widgets.SelectMultiple(\n",
    "    options=dict3.keys(),\n",
    "    description='Dict 3',\n",
    ")\n",
    "\n",
    "# Display the SelectMultiple widgets\n",
    "display(select_dict1, select_dict2, select_dict3)\n",
    "\n",
    "# Function to handle selection changes\n",
    "def handle_selection_change(change):\n",
    "    selected_keys_dict1 = select_dict1.value\n",
    "    selected_keys_dict2 = select_dict2.value\n",
    "    selected_keys_dict3 = select_dict3.value\n",
    "    \n",
    "    # Process the selected keys here (e.g., print them)\n",
    "    print(\"Selected Keys:\")\n",
    "    if selected_keys_dict1:\n",
    "        print(f'Dict 1: {selected_keys_dict1}')\n",
    "    if selected_keys_dict2:\n",
    "        print(f'Dict 2: {selected_keys_dict2}')\n",
    "    if selected_keys_dict3:\n",
    "        print(f'Dict 3: {selected_keys_dict3}')\n",
    "\n",
    "# Attach the function to selection changes\n",
    "select_dict1.observe(handle_selection_change, names='value')\n",
    "select_dict2.observe(handle_selection_change, names='value')\n",
    "select_dict3.observe(handle_selection_change, names='value')\n"
   ]
  },
  {
   "cell_type": "code",
   "execution_count": 5,
   "id": "046da325-de18-44a8-bc1a-fbf46eba2a19",
   "metadata": {},
   "outputs": [
    {
     "data": {
      "application/vnd.jupyter.widget-view+json": {
       "model_id": "37d3334f9cd24812a0992a4afa19ee8f",
       "version_major": 2,
       "version_minor": 0
      },
      "text/plain": [
       "SelectMultiple(description='Dict 1', options=('Option 1', 'Option 2', 'Option 3'), value=())"
      ]
     },
     "metadata": {},
     "output_type": "display_data"
    },
    {
     "data": {
      "application/vnd.jupyter.widget-view+json": {
       "model_id": "b416d6e330484d14b2dc1c2009012e81",
       "version_major": 2,
       "version_minor": 0
      },
      "text/plain": [
       "SelectMultiple(description='Dict 2', options=('A', 'B', 'C'), value=())"
      ]
     },
     "metadata": {},
     "output_type": "display_data"
    },
    {
     "data": {
      "application/vnd.jupyter.widget-view+json": {
       "model_id": "2b6c01475f78469f8b6eac51513ca5d6",
       "version_major": 2,
       "version_minor": 0
      },
      "text/plain": [
       "SelectMultiple(description='Dict 3', options=('Red', 'Green', 'Blue'), value=())"
      ]
     },
     "metadata": {},
     "output_type": "display_data"
    },
    {
     "data": {
      "application/vnd.jupyter.widget-view+json": {
       "model_id": "49572000ad644cd29f8f66ccd7420d9c",
       "version_major": 2,
       "version_minor": 0
      },
      "text/plain": [
       "Button(description='Save Selected Dictionaries', style=ButtonStyle())"
      ]
     },
     "metadata": {},
     "output_type": "display_data"
    }
   ],
   "source": [
    "# Define your dictionaries\n",
    "dict1 = {'Option 1': 1, 'Option 2': 2, 'Option 3': 3}\n",
    "dict2 = {'A': 'Apple', 'B': 'Banana', 'C': 'Cherry'}\n",
    "dict3 = {'Red': 'Color1', 'Green': 'Color2', 'Blue': 'Color3'}\n",
    "\n",
    "# Create a SelectMultiple widget for each dictionary\n",
    "select_dict1 = widgets.SelectMultiple(\n",
    "    options=dict1.keys(),\n",
    "    description='Dict 1',\n",
    ")\n",
    "select_dict2 = widgets.SelectMultiple(\n",
    "    options=dict2.keys(),\n",
    "    description='Dict 2',\n",
    ")\n",
    "select_dict3 = widgets.SelectMultiple(\n",
    "    options=dict3.keys(),\n",
    "    description='Dict 3',\n",
    ")\n",
    "\n",
    "# Display the SelectMultiple widgets\n",
    "display(select_dict1, select_dict2, select_dict3)\n",
    "\n",
    "# Initialize variables to store selected keys\n",
    "selected_keys_dict1 = []\n",
    "selected_keys_dict2 = []\n",
    "selected_keys_dict3 = []\n",
    "\n",
    "# Function to handle selection changes\n",
    "def handle_selection_change(change):\n",
    "    global selected_keys_dict1, selected_keys_dict2, selected_keys_dict3\n",
    "    selected_keys_dict1 = list(select_dict1.value)\n",
    "    selected_keys_dict2 = list(select_dict2.value)\n",
    "    selected_keys_dict3 = list(select_dict3.value)\n",
    "\n",
    "# Attach the function to selection changes\n",
    "select_dict1.observe(handle_selection_change, names='value')\n",
    "select_dict2.observe(handle_selection_change, names='value')\n",
    "select_dict3.observe(handle_selection_change, names='value')\n",
    "\n",
    "# Function to save selected dictionaries\n",
    "def save_selected_dictionaries():\n",
    "    selected_dict1 = {key: dict1[key] for key in selected_keys_dict1}\n",
    "    selected_dict2 = {key: dict2[key] for key in selected_keys_dict2}\n",
    "    selected_dict3 = {key: dict3[key] for key in selected_keys_dict3}\n",
    "    \n",
    "    # You can use, print, or store the selected dictionaries as needed\n",
    "    print(\"Selected Dictionaries:\")\n",
    "    if selected_dict1:\n",
    "        print(f'Dict 1: {selected_dict1}')\n",
    "    if selected_dict2:\n",
    "        print(f'Dict 2: {selected_dict2}')\n",
    "    if selected_dict3:\n",
    "        print(f'Dict 3: {selected_dict3}')\n",
    "\n",
    "# Create a button to trigger saving\n",
    "save_button = widgets.Button(description=\"Save Selected Dictionaries\")\n",
    "save_button.on_click(lambda btn: save_selected_dictionaries())\n",
    "display(save_button)"
   ]
  },
  {
   "cell_type": "code",
   "execution_count": 7,
   "id": "0e2d0bed-84d4-421b-98e9-c90b9e11356b",
   "metadata": {},
   "outputs": [
    {
     "name": "stdout",
     "output_type": "stream",
     "text": [
      "['Option 1', 'Option 2']\n"
     ]
    }
   ],
   "source": [
    "print(selected_keys_dict1)"
   ]
  },
  {
   "cell_type": "markdown",
   "id": "7976a060-4833-4e70-a3ff-38932d98fbe9",
   "metadata": {
    "jp-MarkdownHeadingCollapsed": true
   },
   "source": [
    "# Archive"
   ]
  },
  {
   "cell_type": "code",
   "execution_count": null,
   "id": "5b670380-1fbf-41bd-89cd-cac7f5ba24f3",
   "metadata": {},
   "outputs": [],
   "source": [
    "\n",
    "# Constraint: Each project gets one crane and one driver\n",
    "#    model += lpSum(x[p, c, d] for c in cranes for d in drivers) == 1, f'Project_{p}_Allocation'\n",
    "\n",
    "# Constraint: Capacity constraint for cranes\n",
    "for c in cranes:\n",
    "    model += lpSum(projects[p][1] * x[p, c, d] for p in projects for d in drivers ) <= cranes[c][1], f'Crane_{c}_Capacity'\n",
    "\n",
    "# Constraint: Skill level constraint for drivers\n",
    "for d in drivers:\n",
    "    model += lpSum(projects[p][2] * x[p, c, d] for p in projects for c in cranes) <= drivers[d], f'Driver_{d}_Skill'\n",
    "\n",
    "# Constraint: Each project gets one crane and one driver of the correct type\n",
    "#for p in projects:\n",
    "#    for d in drivers:\n",
    "#        model += (\n",
    "#            lpSum(x[p, c, d] for c in cranes if cranes[c][0] == projects[p][5]) <= 1,\n",
    "#            f'Allocation_{p}_{d}_Constraint',\n",
    "#        )\n",
    "\n",
    "\n"
   ]
  },
  {
   "cell_type": "code",
   "execution_count": null,
   "id": "1d50398e-9e04-48de-a59f-1ede8f14b583",
   "metadata": {},
   "outputs": [],
   "source": [
    "# Define your dictionaries\n",
    "#dict1 = {'Option 1': 1, 'Option 2': 2, 'Option 3': 3}\n",
    "#dict2 = {'A': 'Apple', 'B': 'Banana', 'C': 'Cherry'}\n",
    "#dict3 = {'Red': 'Color1', 'Green': 'Color2', 'Blue': 'Color3'}\n",
    "\n",
    "# Create a SelectMultiple widget for each dictionary\n",
    "select_dict1 = widgets.SelectMultiple(\n",
    "    options=projects.keys(),\n",
    "    description='Aufträge',\n",
    ")\n",
    "select_dict2 = widgets.SelectMultiple(\n",
    "    options=cranes.keys(),\n",
    "    description='Kräne',\n",
    ")\n",
    "select_dict3 = widgets.SelectMultiple(\n",
    "    options=drivers.keys(),\n",
    "    description='Fahrer',\n",
    ")\n",
    "\n",
    "# Display the SelectMultiple widgets\n",
    "display(select_dict1, select_dict2, select_dict3)\n",
    "\n",
    "# Initialize variables to store selected keys\n",
    "selected_keys_dict1 = []\n",
    "selected_keys_dict2 = []\n",
    "selected_keys_dict3 = []\n",
    "\n",
    "# Function to handle selection changes\n",
    "def handle_selection_change(change):\n",
    "    global selected_keys_dict1, selected_keys_dict2, selected_keys_dict3\n",
    "    selected_keys_dict1 = list(select_dict1.value)\n",
    "    selected_keys_dict2 = list(select_dict2.value)\n",
    "    selected_keys_dict3 = list(select_dict3.value)\n",
    "\n",
    "# Attach the function to selection changes\n",
    "select_dict1.observe(handle_selection_change, names='value')\n",
    "select_dict2.observe(handle_selection_change, names='value')\n",
    "select_dict3.observe(handle_selection_change, names='value')\n",
    "\n",
    "# Function to save selected dictionaries\n",
    "def save_selected_dictionaries():\n",
    "    selected_dict1 = {key: dict1[key] for key in selected_keys_dict1}\n",
    "    selected_dict2 = {key: dict2[key] for key in selected_keys_dict2}\n",
    "    selected_dict3 = {key: dict3[key] for key in selected_keys_dict3}\n",
    "    print(f\"Aufträge {selected_keys_dict1}\")\n",
    "    # You can use, print, or store the selected dictionaries as needed\n",
    "    print(\"Selected Dictionaries:\")\n",
    "\n",
    "\n",
    "# Create a button to trigger saving\n",
    "save_button = widgets.Button(description=\"Auswahl speichern!\")\n",
    "save_button.on_click(lambda btn: save_selected_dictionaries())\n",
    "display(save_button)\n"
   ]
  },
  {
   "cell_type": "code",
   "execution_count": null,
   "id": "1fcc1320-459a-4185-848d-d906282e082c",
   "metadata": {},
   "outputs": [],
   "source": [
    "# Objective function: Maximize total project priorities\n",
    "model += lpSum(projects_selected[p][0] * x[p, c, d] for p in projects_selected for c in cranes_selected for d in drivers_selected), \"Total_Priority\"\n",
    "#model += lpSum(projects[p] * x[p, c, d] for p in projects for c in cranes for d in drivers), \"Total_Priority\""
   ]
  },
  {
   "cell_type": "code",
   "execution_count": null,
   "id": "faf7eab5-c6d5-4d56-9374-749886b7ac3e",
   "metadata": {},
   "outputs": [],
   "source": [
    "x = {(p, c, d): LpVariable(f'x_{p}_{c}_{d}', cat='Binary') for p in projects_selected for c in cranes_selected for d in drivers_selected}"
   ]
  }
 ],
 "metadata": {
  "kernelspec": {
   "display_name": "Python 3 (ipykernel)",
   "language": "python",
   "name": "python3"
  },
  "language_info": {
   "codemirror_mode": {
    "name": "ipython",
    "version": 3
   },
   "file_extension": ".py",
   "mimetype": "text/x-python",
   "name": "python",
   "nbconvert_exporter": "python",
   "pygments_lexer": "ipython3",
   "version": "3.8.18"
  }
 },
 "nbformat": 4,
 "nbformat_minor": 5
}
